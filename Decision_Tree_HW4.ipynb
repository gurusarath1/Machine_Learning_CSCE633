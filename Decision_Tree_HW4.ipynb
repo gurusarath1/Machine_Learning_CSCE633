{
 "cells": [
  {
   "cell_type": "markdown",
   "metadata": {
    "colab_type": "text",
    "id": "aGvThxJVq2H3"
   },
   "source": [
    "# Machine Learning Homework 4\n",
    "# Name: Guru Sarath Thangamani\n",
    "# UIN: 829009551"
   ]
  },
  {
   "cell_type": "code",
   "execution_count": 0,
   "metadata": {
    "colab": {},
    "colab_type": "code",
    "id": "iZl-34nm1aP8"
   },
   "outputs": [],
   "source": [
    "from sklearn import tree\n",
    "import numpy as np\n",
    "import matplotlib.pyplot as plt\n",
    "from random import randint\n",
    "from sklearn.model_selection import cross_val_score\n",
    "from sklearn.metrics import mean_squared_error\n",
    "import pandas"
   ]
  },
  {
   "cell_type": "code",
   "execution_count": 0,
   "metadata": {
    "colab": {},
    "colab_type": "code",
    "id": "dsU1VBm4pJCp"
   },
   "outputs": [],
   "source": [
    "from google.colab import files\n",
    "import io\n",
    "\n",
    "import warnings\n",
    "warnings.filterwarnings('ignore')"
   ]
  },
  {
   "cell_type": "code",
   "execution_count": 0,
   "metadata": {
    "colab": {},
    "colab_type": "code",
    "id": "XgfhSjl0o28U"
   },
   "outputs": [],
   "source": [
    "# Code to read csv file into Colaboratory:\n",
    "!pip install -U -q PyDrive\n",
    "from pydrive.auth import GoogleAuth\n",
    "from pydrive.drive import GoogleDrive\n",
    "from google.colab import auth\n",
    "from oauth2client.client import GoogleCredentials\n",
    "# Authenticate and create the PyDrive client.\n",
    "auth.authenticate_user()\n",
    "gauth = GoogleAuth()\n",
    "gauth.credentials = GoogleCredentials.get_application_default()\n",
    "drive = GoogleDrive(gauth)"
   ]
  },
  {
   "cell_type": "code",
   "execution_count": 0,
   "metadata": {
    "colab": {},
    "colab_type": "code",
    "id": "CT8rPwDYpXIL"
   },
   "outputs": [],
   "source": [
    "# https://drive.google.com/open?id=1QKwHh3FkJ2Lznu522hp0crzJOCvUcHoj\n",
    "downloaded = drive.CreateFile({'id':'1QKwHh3FkJ2Lznu522hp0crzJOCvUcHoj'}) \n",
    "downloaded.GetContentFile('OnlineNewsPopularityTest.csv') \n",
    "\n",
    "# https://drive.google.com/open?id=17a2nHMF7CZGzc73EUBThal3jbhDCLGsE\n",
    "downloaded = drive.CreateFile({'id':'17a2nHMF7CZGzc73EUBThal3jbhDCLGsE'}) \n",
    "downloaded.GetContentFile('OnlineNewsPopularityTrain.csv') "
   ]
  },
  {
   "cell_type": "code",
   "execution_count": 271,
   "metadata": {
    "colab": {
     "base_uri": "https://localhost:8080/",
     "height": 85
    },
    "colab_type": "code",
    "id": "yIotUfbvqKMh",
    "outputId": "11e0fb0b-ebd6-4e84-9b64-002083fda0b8"
   },
   "outputs": [
    {
     "name": "stdout",
     "output_type": "stream",
     "text": [
      "adc.json\t\t       sample_data    Vectors2.bin\n",
      "MyHWWords.txt\t\t       text8\t      Vectors.bin\n",
      "OnlineNewsPopularityTest.csv   text8.bin      word2vec.model\n",
      "OnlineNewsPopularityTrain.csv  text8-phrases\n"
     ]
    }
   ],
   "source": [
    "!ls"
   ]
  },
  {
   "cell_type": "code",
   "execution_count": 0,
   "metadata": {
    "colab": {},
    "colab_type": "code",
    "id": "09K2Shkn1mkL"
   },
   "outputs": [],
   "source": [
    "X_train = np.genfromtxt('OnlineNewsPopularityTrain.csv', delimiter=',', skip_header = 1, usecols = (i+1 for i in range(59)))\n",
    "y_train = np.genfromtxt('OnlineNewsPopularityTrain.csv', delimiter=',', skip_header = 1, usecols = (60) )\n",
    "\n",
    "X_test = np.genfromtxt('OnlineNewsPopularityTest.csv', delimiter=',', skip_header = 1, usecols = (i+1 for i in range(59)))\n",
    "y_test = np.genfromtxt('OnlineNewsPopularityTest.csv', delimiter=',', skip_header = 1, usecols = (60) )"
   ]
  },
  {
   "cell_type": "code",
   "execution_count": 273,
   "metadata": {
    "colab": {
     "base_uri": "https://localhost:8080/",
     "height": 85
    },
    "colab_type": "code",
    "id": "WIARkUoP1fHb",
    "outputId": "ed5bc48e-f345-4f61-a1fc-048224241459"
   },
   "outputs": [
    {
     "name": "stdout",
     "output_type": "stream",
     "text": [
      "X train (38422, 59)\n",
      "y train (38422,)\n",
      "X test (1222, 59)\n",
      "X test (1222,)\n"
     ]
    }
   ],
   "source": [
    "print('X train', X_train.shape)\n",
    "print('y train', y_train.shape)\n",
    "\n",
    "print('X test', X_test.shape)\n",
    "print('X test', y_test.shape)"
   ]
  },
  {
   "cell_type": "code",
   "execution_count": 0,
   "metadata": {
    "colab": {},
    "colab_type": "code",
    "id": "KsbXNbtyn8FK"
   },
   "outputs": [],
   "source": [
    "def split_data_set(X,y,split=2,shuffle=False):\n",
    "    \n",
    "    num_samples = X.shape[0]\n",
    "    samples_per_split = num_samples // split\n",
    "    \n",
    "    if y.ndim == 1:\n",
    "        y = np.array([y])\n",
    "        y = y.T\n",
    "            \n",
    "    if X.ndim == 1:\n",
    "        X = np.array([X])\n",
    "        X = X.T\n",
    "    \n",
    "    if shuffle:\n",
    "            \n",
    "        print(X.shape, y.shape)\n",
    "        FullFrame = np.hstack( (X,y) )\n",
    "        print(FullFrame.shape)\n",
    "        np.random.shuffle(FullFrame)\n",
    "        \n",
    "        X = FullFrame[:,0:-1]\n",
    "        y = np.array( [ FullFrame[:,59] ] )\n",
    "        print(X.shape, y.shape)\n",
    "    \n",
    "    X_splits = []\n",
    "    y_splits = []\n",
    "    \n",
    "    for i in range(split):\n",
    "        \n",
    "        if i != split-1:\n",
    "            X_splits.append( X[ i*samples_per_split:(i+1)*samples_per_split, : ] )\n",
    "            y_splits.append( np.array( [y[ i*samples_per_split:(i+1)*samples_per_split, 0 ]]).T )\n",
    "        else:\n",
    "            X_splits.append( X[ i*samples_per_split:, : ] )\n",
    "            y_splits.append( np.array( [y[ i*samples_per_split:, 0 ]]).T )\n",
    "            \n",
    "    return [X_splits , y_splits]  "
   ]
  },
  {
   "cell_type": "code",
   "execution_count": 0,
   "metadata": {
    "colab": {},
    "colab_type": "code",
    "id": "4Aa1qtztoBN6"
   },
   "outputs": [],
   "source": [
    "folds = 5\n",
    "Splits = split_data_set(X_train,y_train,split=folds, shuffle=False)\n",
    "\n",
    "X_train_splits = Splits[0]\n",
    "y_train_splits = Splits[1]"
   ]
  },
  {
   "cell_type": "markdown",
   "metadata": {},
   "source": [
    "# Decision Tree regression"
   ]
  },
  {
   "cell_type": "code",
   "execution_count": 279,
   "metadata": {
    "colab": {
     "base_uri": "https://localhost:8080/",
     "height": 1000
    },
    "colab_type": "code",
    "id": "oLVnBss_oELD",
    "outputId": "ac57786c-b28a-4877-f149-85716232618f"
   },
   "outputs": [
    {
     "name": "stdout",
     "output_type": "stream",
     "text": [
      "Depth = 1 -------------\n",
      "Errors in all the 5 folds: [12704.522646716448, 12451.351711495125, 15982.790465630835, 6893.117134657534, 7827.603531315466]\n",
      "Avg error - 11171.877097963083\n",
      "Depth = 2 -------------\n",
      "Errors in all the 5 folds: [12706.361503601018, 12409.630673317362, 15939.939116389296, 6866.115132557895, 7837.578632601012]\n",
      "Avg error - 11151.925011693316\n",
      "Depth = 3 -------------\n",
      "Errors in all the 5 folds: [12692.374104878132, 12388.103599184531, 15927.67289966213, 6855.073213100711, 7827.648071444609]\n",
      "Avg error - 11138.174377654022\n",
      "Depth = 4 -------------\n",
      "Errors in all the 5 folds: [12694.239972166159, 12397.997397379619, 15922.120784496236, 6852.498502277804, 7825.210225582775]\n",
      "Avg error - 11138.413376380518\n",
      "Depth = 5 -------------\n",
      "Errors in all the 5 folds: [12694.503892741612, 12398.321141261533, 15923.260313107681, 6850.399814243473, 7826.081852938912]\n",
      "Avg error - 11138.513402858644\n",
      "Depth = 6 -------------\n",
      "Errors in all the 5 folds: [12694.040672404715, 12398.321141261533, 15922.251794519083, 6849.378332033277, 7824.653897654285]\n",
      "Avg error - 11137.729167574578\n",
      "Depth = 7 -------------\n",
      "Errors in all the 5 folds: [12694.040672404715, 12398.321141261533, 15922.251794519083, 6849.378332033277, 7824.653897654285]\n",
      "Avg error - 11137.729167574578\n",
      "Depth = 8 -------------\n",
      "Errors in all the 5 folds: [12694.040672404715, 12398.321141261533, 15922.251794519083, 6849.378332033277, 7824.653897654285]\n",
      "Avg error - 11137.729167574578\n",
      "Depth = 9 -------------\n",
      "Errors in all the 5 folds: [12694.040672404715, 12398.321141261533, 15922.251794519083, 6849.378332033277, 7824.653897654285]\n",
      "Avg error - 11137.729167574578\n",
      "Depth = 10 -------------\n",
      "Errors in all the 5 folds: [12694.040672404715, 12398.321141261533, 15922.251794519083, 6849.378332033277, 7824.653897654285]\n",
      "Avg error - 11137.729167574578\n",
      "Depth = 11 -------------\n",
      "Errors in all the 5 folds: [12694.040672404715, 12398.321141261533, 15922.251794519083, 6849.378332033277, 7824.653897654285]\n",
      "Avg error - 11137.729167574578\n",
      "Depth = 12 -------------\n",
      "Errors in all the 5 folds: [12694.040672404715, 12398.321141261533, 15922.251794519083, 6849.378332033277, 7824.653897654285]\n",
      "Avg error - 11137.729167574578\n",
      "Depth = 13 -------------\n",
      "Errors in all the 5 folds: [12694.040672404715, 12398.321141261533, 15922.251794519083, 6849.378332033277, 7824.653897654285]\n",
      "Avg error - 11137.729167574578\n",
      "Depth = 14 -------------\n",
      "Errors in all the 5 folds: [12694.040672404715, 12398.321141261533, 15922.251794519083, 6849.378332033277, 7824.653897654285]\n",
      "Avg error - 11137.729167574578\n",
      "Depth = 15 -------------\n",
      "Errors in all the 5 folds: [12694.040672404715, 12398.321141261533, 15922.251794519083, 6849.378332033277, 7824.653897654285]\n",
      "Avg error - 11137.729167574578\n",
      "Depth = 16 -------------\n",
      "Errors in all the 5 folds: [12694.040672404715, 12398.321141261533, 15922.251794519083, 6849.378332033277, 7824.653897654285]\n",
      "Avg error - 11137.729167574578\n",
      "Depth = 17 -------------\n",
      "Errors in all the 5 folds: [12694.040672404715, 12398.321141261533, 15922.251794519083, 6849.378332033277, 7824.653897654285]\n",
      "Avg error - 11137.729167574578\n",
      "Depth = 18 -------------\n",
      "Errors in all the 5 folds: [12694.040672404715, 12398.321141261533, 15922.251794519083, 6849.378332033277, 7824.653897654285]\n",
      "Avg error - 11137.729167574578\n",
      "Depth = 19 -------------\n",
      "Errors in all the 5 folds: [12694.040672404715, 12398.321141261533, 15922.251794519083, 6849.378332033277, 7824.653897654285]\n",
      "Avg error - 11137.729167574578\n",
      "Depth = 20 -------------\n",
      "Errors in all the 5 folds: [12694.040672404715, 12398.321141261533, 15922.251794519083, 6849.378332033277, 7824.653897654285]\n",
      "Avg error - 11137.729167574578\n",
      "[11171.877097963083, 11151.925011693316, 11138.174377654022, 11138.413376380518, 11138.513402858644, 11137.729167574578, 11137.729167574578, 11137.729167574578, 11137.729167574578, 11137.729167574578, 11137.729167574578, 11137.729167574578, 11137.729167574578, 11137.729167574578, 11137.729167574578, 11137.729167574578, 11137.729167574578, 11137.729167574578, 11137.729167574578, 11137.729167574578]\n",
      "11137.729167574578\n"
     ]
    },
    {
     "data": {
      "text/plain": [
       "[<matplotlib.lines.Line2D at 0x7fcc6f8cb470>]"
      ]
     },
     "execution_count": 279,
     "metadata": {
      "tags": []
     },
     "output_type": "execute_result"
    },
    {
     "data": {
      "image/png": "[encoded data removed]",
      "text/plain": [
       "<Figure size 432x288 with 1 Axes>"
      ]
     },
     "metadata": {
      "tags": []
     },
     "output_type": "display_data"
    }
   ],
   "source": [
    "max_depth = [i+1 for i in range(20)]\n",
    "avg_error = []\n",
    "\n",
    "for d in max_depth:\n",
    "    reg_model = tree.DecisionTreeRegressor(criterion='mse', splitter='best', max_depth=d, min_samples_leaf=2000, random_state=50)\n",
    "    \n",
    "    errors = []\n",
    "    for fold_test_i in range(folds):\n",
    "        \n",
    "        TestSet_X = X_train_splits[fold_test_i]\n",
    "        \n",
    "        TrainSet_X = []\n",
    "        TrainSet_y = []\n",
    "        for fold_train_i in range(folds):\n",
    "            if fold_train_i != fold_test_i:\n",
    "                TrainSet_X.append(X_train_splits[fold_train_i])\n",
    "                TrainSet_y.append(y_train_splits[fold_train_i])\n",
    "        \n",
    "        TrainSet_X = np.vstack(TrainSet_X)\n",
    "        TrainSet_y = np.vstack(TrainSet_y)\n",
    "        \n",
    "        reg_model.fit(TrainSet_X, TrainSet_y)\n",
    "        \n",
    "        predict_y = reg_model.predict(TestSet_X)\n",
    "\n",
    "        act_y = y_train_splits[fold_test_i]\n",
    "        rmse_error = mean_squared_error(predict_y, act_y, squared=False)\n",
    "        \n",
    "        errors.append(rmse_error)\n",
    "\n",
    "    print('Depth =', d, '-------------')    \n",
    "    print('Errors in all the 5 folds:', errors)\n",
    "    avg_error.append(np.mean(errors))\n",
    "    print('Avg error -', np.mean(errors))\n",
    "\n",
    "print(avg_error)\n",
    "print(min(avg_error))\n",
    "plt.xticks([1,2,3,4,5,6,7,8,9,10,11])\n",
    "plt.plot(avg_error)"
   ]
  },
  {
   "cell_type": "code",
   "execution_count": 280,
   "metadata": {
    "colab": {
     "base_uri": "https://localhost:8080/",
     "height": 34
    },
    "colab_type": "code",
    "id": "wXiWJwpVktN_",
    "outputId": "ae40d336-6ed8-492a-b9b2-5d34dd217070"
   },
   "outputs": [
    {
     "name": "stdout",
     "output_type": "stream",
     "text": [
      "Testset error = 8329.687133026458\n"
     ]
    }
   ],
   "source": [
    "# Best depth = 6\n",
    "reg_model = tree.DecisionTreeRegressor(criterion='mse', splitter='best', max_depth=6, min_samples_leaf=2000, random_state=50)\n",
    "reg_model.fit(X_train, y_train)\n",
    "predictions = reg_model.predict(X_test)\n",
    "errorOnTest = mean_squared_error(predictions, y_test)\n",
    "print('Testset error =', error_on_testSet)"
   ]
  },
  {
   "cell_type": "markdown",
   "metadata": {
    "colab_type": "text",
    "id": "-NhFhBsGoG6U"
   },
   "source": [
    "# Random forest regression"
   ]
  },
  {
   "cell_type": "code",
   "execution_count": 0,
   "metadata": {
    "colab": {},
    "colab_type": "code",
    "id": "onUkG1V1oKIE"
   },
   "outputs": [],
   "source": [
    "class Random_Forest:\n",
    "    \n",
    "    def __init__(self, Train_file_loc):\n",
    "        self.Train_file_loc = Train_file_loc\n",
    "        \n",
    "    def create_tree_parameters(self, num_features_per_tree, Max_features, num_trees = 10, depth = 2):\n",
    "        \n",
    "        self.num_trees = num_trees\n",
    "        self.Max_features = Max_features\n",
    "        self.num_features_per_tree = num_features_per_tree\n",
    "        self.depth = depth\n",
    "        \n",
    "        self.trees_features_to_use = []\n",
    "        for i in range(num_trees):\n",
    "            \n",
    "            treeX_params = []\n",
    "            for j in range(num_features_per_tree):\n",
    "                feature = randint(1, Max_features)\n",
    "                treeX_params.append(feature)\n",
    "        \n",
    "            self.trees_features_to_use.append( tuple(treeX_params) )\n",
    "\n",
    "    def create_trees(self):\n",
    "        \n",
    "        self.tree_models = []\n",
    "        \n",
    "        for t in range(self.num_trees):\n",
    "            \n",
    "            reg_model = tree.DecisionTreeRegressor(criterion='mse', splitter='best', max_depth=self.depth, min_samples_leaf=2000, random_state=30)\n",
    "            self.tree_models.append(reg_model)\n",
    "    \n",
    "    def fit_rf(self, Full_TrainSet_X, y_train):\n",
    "        \n",
    "        for t in range(self.num_trees):\n",
    "            X_train = []\n",
    "            for col in self.trees_features_to_use[t]:\n",
    "                colX = Full_TrainSet_X[:,col]\n",
    "                colX = np.array([colX]).T\n",
    "                X_train.append(colX)\n",
    "            \n",
    "            X_train = np.hstack(X_train)\n",
    "\n",
    "            np.random.shuffle(X_train)\n",
    "            numDataToTake = X_train.shape[0] // 2\n",
    "            X_train = X_train[0:numDataToTake,:]\n",
    "            \n",
    "            self.tree_models[t].fit(X_train, y_train[0:numDataToTake])\n",
    "            \n",
    "            \n",
    "    def predict_rf(self, Full_TestSet_X):\n",
    "        \n",
    "        predictions = []\n",
    "        \n",
    "        for t in range(self.num_trees):\n",
    "            \n",
    "            X_test = []\n",
    "            for col in self.trees_features_to_use[t]:\n",
    "                colX = Full_TestSet_X[:,col]\n",
    "                colX = np.array([colX]).T\n",
    "                X_test.append(colX)\n",
    "            \n",
    "            X_test = np.hstack(X_test)\n",
    "            \n",
    "            prediction = self.tree_models[t].predict(X_test)\n",
    "            predictions.append(prediction)\n",
    "        \n",
    "        mean_predictions = predictions[0]\n",
    "        for i,pred in enumerate(predictions):\n",
    "            if i == 0:\n",
    "                continue\n",
    "            \n",
    "            mean_predictions = mean_predictions + pred\n",
    "        \n",
    "        mean_predictions = mean_predictions / self.num_trees\n",
    "        \n",
    "        return mean_predictions"
   ]
  },
  {
   "cell_type": "code",
   "execution_count": 282,
   "metadata": {
    "colab": {
     "base_uri": "https://localhost:8080/",
     "height": 1000
    },
    "colab_type": "code",
    "id": "wK4YomX5oS81",
    "outputId": "d9f750b6-e231-4b82-a8a5-d7a0bb0544ec"
   },
   "outputs": [
    {
     "name": "stdout",
     "output_type": "stream",
     "text": [
      "Num Trees --- 3    Depth --- 2\n",
      "Errors in all the 5 folds: [12724.046569362174, 12498.377628849306, 16062.147746609337, 6984.6714602121365, 7868.297952735844]\n",
      "Avg error - 11227.508271553761\n",
      "Num Trees --- 3    Depth --- 5\n",
      "Errors in all the 5 folds: [12717.421134833665, 12509.636647998374, 16062.100516001983, 6978.993940040527, 7865.722467818247]\n",
      "Avg error - 11226.774941338559\n",
      "Num Trees --- 3    Depth --- 7\n",
      "Errors in all the 5 folds: [12729.960888094924, 12508.229812025074, 16057.208917594005, 6957.839438893067, 7882.767327728526]\n",
      "Avg error - 11227.201276867121\n",
      "Num Trees --- 3    Depth --- 10\n",
      "Errors in all the 5 folds: [12720.974951614733, 12506.914848596572, 16068.924199212375, 6980.530195042351, 7882.1058403258]\n",
      "Avg error - 11231.890006958367\n",
      "Num Trees --- 3    Depth --- 15\n",
      "Errors in all the 5 folds: [12736.580210990749, 12504.063949978168, 16055.340801016533, 6977.988207399826, 7880.6873418044]\n",
      "Avg error - 11230.932102237934\n",
      "Num Trees --- 3    Depth --- 20\n",
      "Errors in all the 5 folds: [12713.103941631105, 12476.988658826376, 16070.386553947252, 6962.440116396896, 7860.761246478012]\n",
      "Avg error - 11216.736103455927\n",
      "Num Trees --- 5    Depth --- 2\n",
      "Errors in all the 5 folds: [12717.374210813774, 12512.121654084862, 16053.308646219277, 6972.76813092451, 7877.241304158912]\n",
      "Avg error - 11226.562789240266\n",
      "Num Trees --- 5    Depth --- 5\n",
      "Errors in all the 5 folds: [12716.395747578255, 12491.140513181628, 16060.160396596337, 6978.908565968395, 7862.041564234389]\n",
      "Avg error - 11221.7293575118\n",
      "Num Trees --- 5    Depth --- 7\n",
      "Errors in all the 5 folds: [12721.110450531985, 12484.11353808428, 16061.025250846578, 6968.017413515005, 7877.477406867283]\n",
      "Avg error - 11222.348811969026\n",
      "Num Trees --- 5    Depth --- 10\n",
      "Errors in all the 5 folds: [12719.294892272896, 12486.876999201417, 16056.381162213202, 6983.351793961469, 7865.7678772885965]\n",
      "Avg error - 11222.334544987516\n",
      "Num Trees --- 5    Depth --- 15\n",
      "Errors in all the 5 folds: [12722.913979844565, 12488.194092994105, 16059.488148218212, 6975.070780648936, 7881.906879184975]\n",
      "Avg error - 11225.514776178159\n",
      "Num Trees --- 5    Depth --- 20\n",
      "Errors in all the 5 folds: [12722.129675240943, 12497.336716576261, 16064.848800685859, 6971.981176858201, 7865.955876178577]\n",
      "Avg error - 11224.450449107968\n",
      "Num Trees --- 10    Depth --- 2\n",
      "Errors in all the 5 folds: [12712.155928706066, 12499.075304895754, 16059.07557619714, 6969.964870291187, 7885.653685318607]\n",
      "Avg error - 11225.18507308175\n",
      "Num Trees --- 10    Depth --- 5\n",
      "Errors in all the 5 folds: [12718.368770488354, 12483.096121417097, 16049.944694799666, 6972.7534252401065, 7876.435979623928]\n",
      "Avg error - 11220.119798313832\n",
      "Num Trees --- 10    Depth --- 7\n",
      "Errors in all the 5 folds: [12721.751417708138, 12498.775189647033, 16062.883799251036, 6972.922732022012, 7882.587823066019]\n",
      "Avg error - 11227.784192338846\n",
      "Num Trees --- 10    Depth --- 10\n",
      "Errors in all the 5 folds: [12719.613119945994, 12503.198175096115, 16050.665764498137, 6978.679598306325, 7890.039502673226]\n",
      "Avg error - 11228.43923210396\n",
      "Num Trees --- 10    Depth --- 15\n",
      "Errors in all the 5 folds: [12719.45960353457, 12500.719391478093, 16062.305381510532, 6968.148624367102, 7867.787784135403]\n",
      "Avg error - 11223.68415700514\n",
      "Num Trees --- 10    Depth --- 20\n",
      "Errors in all the 5 folds: [12723.94728336258, 12490.716573580954, 16053.427223150667, 6982.504525903613, 7886.940676450378]\n",
      "Avg error - 11227.507256489638\n",
      "Num Trees --- 15    Depth --- 2\n",
      "Errors in all the 5 folds: [12716.93934393705, 12496.046536089332, 16058.525006050677, 6967.461147559711, 7882.281855413725]\n",
      "Avg error - 11224.250777810099\n",
      "Num Trees --- 15    Depth --- 5\n",
      "Errors in all the 5 folds: [12717.566024429429, 12498.87459405616, 16053.607219195323, 6973.538557210984, 7879.616933885491]\n",
      "Avg error - 11224.640665755478\n",
      "Num Trees --- 15    Depth --- 7\n",
      "Errors in all the 5 folds: [12716.668702587649, 12496.45809411756, 16054.708087434208, 6957.445636004115, 7878.70179103626]\n",
      "Avg error - 11220.79646223596\n",
      "Num Trees --- 15    Depth --- 10\n",
      "Errors in all the 5 folds: [12718.395024299842, 12506.286113297676, 16058.977792226473, 6971.594808633657, 7879.747239941456]\n",
      "Avg error - 11227.000195679819\n",
      "Num Trees --- 15    Depth --- 15\n",
      "Errors in all the 5 folds: [12717.149540976648, 12503.531656445613, 16057.310916671524, 6963.696049501141, 7878.871653543204]\n",
      "Avg error - 11224.111963427626\n",
      "Num Trees --- 15    Depth --- 20\n",
      "Errors in all the 5 folds: [12721.430288511228, 12492.536991063756, 16056.569943910641, 6979.329897635477, 7880.675956165997]\n",
      "Avg error - 11226.10861545742\n",
      "Num Trees --- 20    Depth --- 2\n",
      "Errors in all the 5 folds: [12716.481463200564, 12491.441258965213, 16053.177599722942, 6965.1137557676375, 7879.436004464423]\n",
      "Avg error - 11221.130016424157\n",
      "Num Trees --- 20    Depth --- 5\n",
      "Errors in all the 5 folds: [12720.392157915272, 12502.98880937526, 16056.245417239461, 6971.256399091026, 7879.158050609617]\n",
      "Avg error - 11226.008166846128\n",
      "Num Trees --- 20    Depth --- 7\n",
      "Errors in all the 5 folds: [12717.666635633237, 12498.388067513815, 16055.77209645244, 6980.723179126257, 7879.3260758148435]\n",
      "Avg error - 11226.375210908118\n",
      "Num Trees --- 20    Depth --- 10\n",
      "Errors in all the 5 folds: [12721.343569578332, 12497.849925980438, 16056.161900208152, 6973.468953047092, 7872.205573195397]\n",
      "Avg error - 11224.205984401882\n",
      "Num Trees --- 20    Depth --- 15\n",
      "Errors in all the 5 folds: [12716.291724964734, 12501.580756484827, 16057.622875030178, 6975.466075426473, 7874.51458395017]\n",
      "Avg error - 11225.095203171277\n",
      "Num Trees --- 20    Depth --- 20\n",
      "Errors in all the 5 folds: [12718.673877358071, 12493.89365513387, 16055.62782408774, 6973.471953051058, 7877.4408435627]\n",
      "Avg error - 11223.821630638688\n"
     ]
    }
   ],
   "source": [
    "max_depth = [2,5,7,10,15,20]\n",
    "max_trees = [3,5,10,15,20]\n",
    "\n",
    "avg_errors_2D = np.zeros( ( len(max_trees) , len(max_depth) ))\n",
    "avg_errors = []\n",
    "loc_i = 0\n",
    "for num_trees in max_trees:\n",
    "    \n",
    "    loc_j = 0\n",
    "    for d in max_depth:\n",
    "        \n",
    "        print('Num Trees ---', num_trees, '   Depth ---', d)\n",
    "        \n",
    "        r_forest_model = Random_Forest('OnlineNewsPopularityTrain.csv')\n",
    "        r_forest_model.create_tree_parameters(17,58, num_trees = num_trees, depth=d)\n",
    "        r_forest_model.create_trees()\n",
    "\n",
    "        errors = []\n",
    "        for fold_test_i in range(folds):\n",
    "\n",
    "            TestSet_X = X_train_splits[fold_test_i]\n",
    "\n",
    "            TrainSet_X = []\n",
    "            TrainSet_y = []\n",
    "            for fold_train_i in range(folds):\n",
    "                if fold_train_i != fold_test_i:\n",
    "                    TrainSet_X.append(X_train_splits[fold_train_i])\n",
    "                    TrainSet_y.append(y_train_splits[fold_train_i])\n",
    "\n",
    "            TrainSet_X = np.vstack(TrainSet_X)\n",
    "            TrainSet_y = np.vstack(TrainSet_y)\n",
    "\n",
    "            r_forest_model.fit_rf(TrainSet_X, TrainSet_y)\n",
    "\n",
    "            predict_y = r_forest_model.predict_rf(TestSet_X)\n",
    "\n",
    "            act_y = y_train_splits[fold_test_i]\n",
    "            rmse_error = mean_squared_error(predict_y, act_y, squared= False)\n",
    "\n",
    "            errors.append(rmse_error)\n",
    "        \n",
    "        print('Errors in all the 5 folds:', errors)\n",
    "        MeanError_One_Full_CrossVal = np.mean(errors)\n",
    "        avg_errors.append(MeanError_One_Full_CrossVal)\n",
    "        avg_errors_2D[loc_i][loc_j] = MeanError_One_Full_CrossVal\n",
    "        print('Avg error -', MeanError_One_Full_CrossVal)\n",
    "\n",
    "        loc_j += 1\n",
    "\n",
    "    loc_i += 1"
   ]
  },
  {
   "cell_type": "code",
   "execution_count": 284,
   "metadata": {
    "colab": {
     "base_uri": "https://localhost:8080/",
     "height": 296
    },
    "colab_type": "code",
    "id": "dLEABaBoyhTS",
    "outputId": "3b3c2a43-8bcc-4555-8688-ca343a1ae66a"
   },
   "outputs": [
    {
     "data": {
      "text/plain": [
       "11216.736103455927"
      ]
     },
     "execution_count": 284,
     "metadata": {
      "tags": []
     },
     "output_type": "execute_result"
    },
    {
     "data": {
      "image/png": "[encoded data removed]",
      "text/plain": [
       "<Figure size 432x288 with 1 Axes>"
      ]
     },
     "metadata": {
      "tags": []
     },
     "output_type": "display_data"
    }
   ],
   "source": [
    "plt.xlabel('Number of Trees')\n",
    "plt.ylabel('Depth of each Tree')\n",
    "plt.imshow(avg_errors_2D, cmap='hot')\n",
    "\n",
    "np.min(avg_errors_2D)"
   ]
  },
  {
   "cell_type": "code",
   "execution_count": 286,
   "metadata": {
    "colab": {
     "base_uri": "https://localhost:8080/",
     "height": 34
    },
    "colab_type": "code",
    "id": "xIDBsY1f2aD7",
    "outputId": "5f209932-b4d2-404a-e124-972b6d1a0ace"
   },
   "outputs": [
    {
     "name": "stdout",
     "output_type": "stream",
     "text": [
      "Error on Test set - 8448.342738846994\n"
     ]
    }
   ],
   "source": [
    "# Number of Trees 3\n",
    "# Depth 20\n",
    "\n",
    "r_forest_Bestmodel = Random_Forest('OnlineNewsPopularityTrain.csv')\n",
    "r_forest_Bestmodel.create_tree_parameters(17,58, num_trees = 3, depth=20)\n",
    "r_forest_Bestmodel.create_trees()\n",
    "r_forest_Bestmodel.fit_rf(X_train, y_train)\n",
    "\n",
    "predictions = r_forest_Bestmodel.predict_rf(X_test)\n",
    "error_on_testSet = mean_squared_error(predictions, y_test, squared=False)\n",
    "\n",
    "print('Error on Test set -', error_on_testSet)"
   ]
  },
  {
   "cell_type": "markdown",
   "metadata": {
    "colab_type": "text",
    "id": "k-4et0g_oef0"
   },
   "source": [
    "# Feature exploration"
   ]
  },
  {
   "cell_type": "code",
   "execution_count": 287,
   "metadata": {
    "colab": {
     "base_uri": "https://localhost:8080/",
     "height": 119
    },
    "colab_type": "code",
    "id": "6zITF4u7obsW",
    "outputId": "f6c4af61-f121-4eb8-8784-3f039f77a688"
   },
   "outputs": [
    {
     "data": {
      "text/plain": [
       "DecisionTreeRegressor(ccp_alpha=0.0, criterion='mse', max_depth=6,\n",
       "                      max_features=None, max_leaf_nodes=None,\n",
       "                      min_impurity_decrease=0.0, min_impurity_split=None,\n",
       "                      min_samples_leaf=2000, min_samples_split=2,\n",
       "                      min_weight_fraction_leaf=0.0, presort='deprecated',\n",
       "                      random_state=42, splitter='best')"
      ]
     },
     "execution_count": 287,
     "metadata": {
      "tags": []
     },
     "output_type": "execute_result"
    }
   ],
   "source": [
    "Best_Model_Q1 = tree.DecisionTreeRegressor(criterion='mse', splitter='best', max_depth=6, min_samples_leaf=2000, random_state=42)\n",
    "Best_Model_Q1.fit(TrainSet_X, TrainSet_y)"
   ]
  },
  {
   "cell_type": "code",
   "execution_count": 288,
   "metadata": {
    "colab": {
     "base_uri": "https://localhost:8080/",
     "height": 34
    },
    "colab_type": "code",
    "id": "m6ambkbtomJx",
    "outputId": "3ace6ffc-d756-4a1d-c864-6e89475c7a6c"
   },
   "outputs": [
    {
     "name": "stdout",
     "output_type": "stream",
     "text": [
      "Number of nodes in the decision tree =  21\n"
     ]
    }
   ],
   "source": [
    "n_nodes = Best_Model_Q1.tree_.node_count\n",
    "children_left = Best_Model_Q1.tree_.children_left\n",
    "children_right = Best_Model_Q1.tree_.children_right\n",
    "feature = Best_Model_Q1.tree_.feature\n",
    "threshold = Best_Model_Q1.tree_.threshold\n",
    "\n",
    "print('Number of nodes in the decision tree = ', n_nodes)"
   ]
  },
  {
   "cell_type": "code",
   "execution_count": 0,
   "metadata": {
    "colab": {},
    "colab_type": "code",
    "id": "t2ks5FvQuFfh"
   },
   "outputs": [],
   "source": [
    "Features = ['timedelta', 'n_tokens_title', 'n_tokens_content', 'n_unique_tokens', 'n_non_stop_words', 'n_non_stop_unique_tokens', 'num_hrefs', 'num_self_hrefs', 'num_imgs', 'num_videos', 'average_token_length', 'num_keywords', 'data_channel_is_lifestyle', 'data_channel_is_entertainment', 'data_channel_is_bus', 'data_channel_is_socmed', 'data_channel_is_tech', 'data_channel_is_world', 'kw_min_min', 'kw_max_min', 'kw_avg_min', 'kw_min_max', 'kw_max_max', 'kw_avg_max', 'kw_min_avg', 'kw_max_avg', 'kw_avg_avg', 'self_reference_min_shares', 'self_reference_max_shares', 'self_reference_avg_sharess', 'weekday_is_monday', 'weekday_is_tuesday', 'weekday_is_wednesday', 'weekday_is_thursday', 'weekday_is_friday', 'weekday_is_saturday', 'weekday_is_sunday', 'is_weekend', 'LDA_00', 'LDA_01', 'LDA_02', 'LDA_03', 'LDA_04', 'global_subjectivity', 'global_sentiment_polarity', 'global_rate_positive_words', 'global_rate_negative_words', 'rate_positive_words', 'rate_negative_words', 'avg_positive_polarity', 'min_positive_polarity', 'max_positive_polarity', 'avg_negative_polarity', 'min_negative_polarity', 'max_negative_polarity', 'title_subjectivity', 'title_sentiment_polarity', 'abs_title_subjectivity', 'abs_title_sentiment_polarity']"
   ]
  },
  {
   "cell_type": "code",
   "execution_count": 0,
   "metadata": {
    "colab": {},
    "colab_type": "code",
    "id": "vPvZhWo_uGV8"
   },
   "outputs": [],
   "source": [
    "dotfile = open(\"dt.dot\", 'w')\n",
    "graphic = tree.export_graphviz(Best_Model_Q1, out_file=dotfile, feature_names=Features)\n",
    "dotfile.close()"
   ]
  },
  {
   "cell_type": "markdown",
   "metadata": {
    "colab_type": "text",
    "id": "QcnsoKreoofZ"
   },
   "source": [
    "# NLP feature extraction"
   ]
  },
  {
   "cell_type": "code",
   "execution_count": 0,
   "metadata": {
    "colab": {},
    "colab_type": "code",
    "id": "v0e9HqAvon2e"
   },
   "outputs": [],
   "source": [
    "urls = pandas.read_csv('OnlineNewsPopularityTrain.csv', usecols=[0])\n",
    "urls_test = pandas.read_csv('OnlineNewsPopularityTest.csv', usecols=[0])"
   ]
  },
  {
   "cell_type": "code",
   "execution_count": 0,
   "metadata": {
    "colab": {},
    "colab_type": "code",
    "id": "2bnD8WiormAe"
   },
   "outputs": [],
   "source": [
    "AllUrls = []\n",
    "for i in range(urls.shape[0]):\n",
    "    urlX = urls['url'][i]\n",
    "    AllUrls.append(urlX)\n",
    "\n",
    "All_LastWords_train = []\n",
    "for i in range(len(AllUrls)):\n",
    "    lastword = AllUrls[i].split('/')[-2]\n",
    "    lastwords = lastword.split('-')\n",
    "    All_LastWords_train.append(lastwords)\n",
    "\n",
    "AllUrls = []\n",
    "for i in range(urls_test.shape[0]):\n",
    "    urlX = urls_test['url'][i]\n",
    "    AllUrls.append(urlX)\n",
    "\n",
    "All_LastWords_test = []\n",
    "for i in range(len(AllUrls)):\n",
    "    lastword = AllUrls[i].split('/')[-2]\n",
    "    lastwords = lastword.split('-')\n",
    "    All_LastWords_test.append(lastwords)\n"
   ]
  },
  {
   "cell_type": "code",
   "execution_count": 254,
   "metadata": {
    "colab": {
     "base_uri": "https://localhost:8080/",
     "height": 85
    },
    "colab_type": "code",
    "id": "kXXmX0z-69PZ",
    "outputId": "3571c2a3-c345-446c-db26-17ae81b39158"
   },
   "outputs": [
    {
     "name": "stdout",
     "output_type": "stream",
     "text": [
      "38422\n",
      "1222\n",
      "[['amazon', 'instant', 'video', 'browser'], ['ap', 'samsung', 'sponsored', 'tweets'], ['apple', '40', 'billion', 'app', 'downloads']]\n",
      "[['entrepreneur', 'trends', '2013'], ['facebook', 'sick', 'app'], ['felt', 'audio', 'pulse', 'speaker']]\n"
     ]
    }
   ],
   "source": [
    "print(len(All_LastWords_train))\n",
    "print(len(All_LastWords_test))\n",
    "print(All_LastWords_test[0:3])\n",
    "print(All_LastWords_train[0:3])"
   ]
  },
  {
   "cell_type": "code",
   "execution_count": 0,
   "metadata": {
    "colab": {},
    "colab_type": "code",
    "id": "VsNpEilYNYZM"
   },
   "outputs": [],
   "source": [
    "from gensim.test.utils import common_texts, get_tmpfile\n",
    "from gensim.models import Word2Vec\n",
    "\n",
    "for w in All_LastWords_train:\n",
    "  common_texts.append(w)\n",
    "\n",
    "for w in All_LastWords_test:\n",
    "  common_texts.append(w)\n",
    "\n",
    "path = get_tmpfile(\"word2vec.model\")\n",
    "model = Word2Vec(common_texts, size=10, window=5, min_count=1, workers=4)\n",
    "model.save(\"word2vec.model\")"
   ]
  },
  {
   "cell_type": "code",
   "execution_count": 0,
   "metadata": {
    "colab": {},
    "colab_type": "code",
    "id": "G6p-ZgH4NkK8"
   },
   "outputs": [],
   "source": [
    "model = Word2Vec.load(\"word2vec.model\")"
   ]
  },
  {
   "cell_type": "code",
   "execution_count": 0,
   "metadata": {
    "colab": {},
    "colab_type": "code",
    "id": "5YM6oOsfOTat"
   },
   "outputs": [],
   "source": [
    "vectors = []\n",
    "for words in All_LastWords_train:\n",
    "  vector = model.wv[words[0]]\n",
    "  numWords = 1\n",
    "  for i,word in enumerate(words):\n",
    "    if i==0:\n",
    "      continue\n",
    "    vector != model.wv[word]\n",
    "    numWords += 1\n",
    "  \n",
    "  meanVector = vector/numWords\n",
    "  vectors.append(np.array([meanVector]))"
   ]
  },
  {
   "cell_type": "code",
   "execution_count": 259,
   "metadata": {
    "colab": {
     "base_uri": "https://localhost:8080/",
     "height": 34
    },
    "colab_type": "code",
    "id": "TB5jEusEPE_p",
    "outputId": "3953b5aa-5944-4a8c-cc8f-f270cb170fe8"
   },
   "outputs": [
    {
     "name": "stdout",
     "output_type": "stream",
     "text": [
      "(38422, 69)\n"
     ]
    }
   ],
   "source": [
    "allUrlVectors = np.vstack(vectors)\n",
    "X_train_with_Url = np.hstack( (allUrlVectors , X_train) )\n",
    "print(X_train_with_Url.shape)"
   ]
  },
  {
   "cell_type": "code",
   "execution_count": 0,
   "metadata": {
    "colab": {},
    "colab_type": "code",
    "id": "Gj7AlXOloWNL"
   },
   "outputs": [],
   "source": [
    "vectors = []\n",
    "for words in All_LastWords_test:\n",
    "  vector = model.wv[words[0]]\n",
    "  numWords = 1\n",
    "  for i,word in enumerate(words):\n",
    "    if i==0:\n",
    "      continue\n",
    "    vector != model.wv[word]\n",
    "    numWords += 1\n",
    "  \n",
    "  meanVector = vector/numWords\n",
    "  vectors.append(np.array([meanVector]))"
   ]
  },
  {
   "cell_type": "code",
   "execution_count": 261,
   "metadata": {
    "colab": {
     "base_uri": "https://localhost:8080/",
     "height": 34
    },
    "colab_type": "code",
    "id": "C1KvYdXApQd3",
    "outputId": "1df04ad9-b034-40ea-bd17-b40e39bb85a4"
   },
   "outputs": [
    {
     "name": "stdout",
     "output_type": "stream",
     "text": [
      "(1222, 69)\n"
     ]
    }
   ],
   "source": [
    "allUrlVectors = np.vstack(vectors)\n",
    "X_test_with_Url = np.hstack( (allUrlVectors , X_test) )\n",
    "print(X_test_with_Url.shape)"
   ]
  },
  {
   "cell_type": "code",
   "execution_count": 265,
   "metadata": {
    "colab": {
     "base_uri": "https://localhost:8080/",
     "height": 119
    },
    "colab_type": "code",
    "id": "DiRheMonQIXV",
    "outputId": "6de40713-5ddc-4502-c1a9-958f2b43edcc"
   },
   "outputs": [
    {
     "data": {
      "text/plain": [
       "DecisionTreeRegressor(ccp_alpha=0.0, criterion='mse', max_depth=50,\n",
       "                      max_features=None, max_leaf_nodes=None,\n",
       "                      min_impurity_decrease=0.0, min_impurity_split=None,\n",
       "                      min_samples_leaf=2000, min_samples_split=2,\n",
       "                      min_weight_fraction_leaf=0.0, presort='deprecated',\n",
       "                      random_state=50, splitter='best')"
      ]
     },
     "execution_count": 265,
     "metadata": {
      "tags": []
     },
     "output_type": "execute_result"
    }
   ],
   "source": [
    "dTreeModel = tree.DecisionTreeRegressor(criterion='mse', splitter='best', max_depth=50, min_samples_leaf=2000, random_state=50)\n",
    "dTreeModel.fit(X_train_with_Url, y_train)"
   ]
  },
  {
   "cell_type": "code",
   "execution_count": 266,
   "metadata": {
    "colab": {
     "base_uri": "https://localhost:8080/",
     "height": 34
    },
    "colab_type": "code",
    "id": "k4_QXFjNR7EP",
    "outputId": "d22b6686-7118-4758-ce5d-54ee1a8cec3b"
   },
   "outputs": [
    {
     "name": "stdout",
     "output_type": "stream",
     "text": [
      "8329.687133026458\n"
     ]
    }
   ],
   "source": [
    "predictions = dTreeModel.predict(X_test_with_Url)\n",
    "error_on_testSet = mean_squared_error(predictions, y_test, squared=False)\n",
    "print(error_on_testSet)"
   ]
  }
 ],
 "metadata": {
  "colab": {
   "collapsed_sections": [],
   "name": "HW4.ipynb",
   "provenance": []
  },
  "kernelspec": {
   "display_name": "Python 3",
   "language": "python",
   "name": "python3"
  },
  "language_info": {
   "codemirror_mode": {
    "name": "ipython",
    "version": 3
   },
   "file_extension": ".py",
   "mimetype": "text/x-python",
   "name": "python",
   "nbconvert_exporter": "python",
   "pygments_lexer": "ipython3",
   "version": "3.7.4"
  }
 },
 "nbformat": 4,
 "nbformat_minor": 1
}
